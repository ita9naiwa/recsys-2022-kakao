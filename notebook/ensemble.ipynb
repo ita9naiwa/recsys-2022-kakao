{
 "cells": [
  {
   "cell_type": "code",
   "execution_count": null,
   "id": "53d745a0-dde5-4473-9972-e2a4f2f6f4ce",
   "metadata": {},
   "outputs": [],
   "source": [
    "import sys\n",
    "import joblib\n",
    "sys.path.append('..')\n",
    "from module.models.pcos import PCos\n",
    "from module.models.ensemble import EnsembleLogit"
   ]
  },
  {
   "cell_type": "code",
   "execution_count": null,
   "id": "f8cd62b6-297f-4fc1-a903-3066d03c549f",
   "metadata": {},
   "outputs": [],
   "source": [
    "folder = '../processed_submit'\n",
    "kind = 'leader' \n",
    "logit_fnames = joblib.load(f'logits/{leader}/saved_logits')"
   ]
  },
  {
   "cell_type": "code",
   "execution_count": null,
   "id": "003ea7ff-6afa-4fad-8ed8-e8a5b7879f56",
   "metadata": {},
   "outputs": [],
   "source": [
    "for save_fname in [f'logits/{kind}/pcos.logits', f'logits/{kind}/pcos.similarity']:\n",
    "    # if exists(save_fname): continue\n",
    "    pcos = PCos(dir_name=folder, save_fname=save_fname)\n",
    "    pcos.fit('similarity' not in save_fname, kind)\n",
    "logits.append(('pcos', f'logits/{kind}/pcos.logits'))\n",
    "\n",
    "model = EnsembleLogit(logits, folder=folder, device='cuda')\n",
    "model.set_fallback(folder=folder, kind=kind)\n",
    "\n",
    "if model.fallback_items is not None:\n",
    "    print(f'Size of fallback items: {len(model.fallback_items)}')\n",
    "model.set_pcos(joblib.load(f'logits/{kind}/pcos.similarity'))"
   ]
  },
  {
   "cell_type": "code",
   "execution_count": null,
   "id": "18bfea2d-415d-40ab-a8aa-a5d675f9d38d",
   "metadata": {},
   "outputs": [],
   "source": [
    "dl = model.get_dataloader(512, folder, kind=kind)"
   ]
  },
  {
   "cell_type": "code",
   "execution_count": null,
   "id": "6e6cf1d4-b958-4b72-a888-c5f47fab4aad",
   "metadata": {},
   "outputs": [],
   "source": [
    "model.submit_to_csv(dl, fork_fallback=True)"
   ]
  }
 ],
 "metadata": {
  "kernelspec": {
   "display_name": "py39-aurochs",
   "language": "python",
   "name": "py39"
  },
  "language_info": {
   "codemirror_mode": {
    "name": "ipython",
    "version": 3
   },
   "file_extension": ".py",
   "mimetype": "text/x-python",
   "name": "python",
   "nbconvert_exporter": "python",
   "pygments_lexer": "ipython3",
   "version": "3.9.1"
  }
 },
 "nbformat": 4,
 "nbformat_minor": 5
}

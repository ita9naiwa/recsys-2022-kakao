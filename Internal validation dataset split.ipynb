{
 "cells": [
  {
   "cell_type": "code",
   "execution_count": 1,
   "id": "2c26262b",
   "metadata": {},
   "outputs": [],
   "source": [
    "import pandas as pd\n",
    "import numpy as np\n",
    "from os.path import join as pjoin\n",
    "import random"
   ]
  },
  {
   "cell_type": "code",
   "execution_count": 2,
   "id": "39839bfb",
   "metadata": {},
   "outputs": [],
   "source": [
    "random.seed(1531513)"
   ]
  },
  {
   "cell_type": "code",
   "execution_count": 3,
   "id": "db6b7b37",
   "metadata": {},
   "outputs": [],
   "source": [
    "dtype_dict=str\n",
    "all_sessions = pd.read_csv('data/train_sessions.csv', dtype=dtype_dict)\n",
    "all_purchases = pd.read_csv('data/train_purchases.csv', dtype=dtype_dict)\n",
    "all_features = pd.read_csv('data/item_features.csv', dtype=dtype_dict)"
   ]
  },
  {
   "cell_type": "code",
   "execution_count": 4,
   "id": "1b71e89a",
   "metadata": {},
   "outputs": [],
   "source": [
    "all_item_ids = set(all_sessions.item_id.tolist()) | set(all_purchases.item_id.tolist())"
   ]
  },
  {
   "cell_type": "markdown",
   "id": "b7020386",
   "metadata": {},
   "source": [
    "### Three validation targets"
   ]
  },
  {
   "cell_type": "code",
   "execution_count": 5,
   "id": "47620071",
   "metadata": {},
   "outputs": [],
   "source": [
    "def get_filtered(all_sessions, all_purchases, all_features, ym):\n",
    "    target_sessions = all_sessions[all_sessions.date.apply(lambda x: x[:7] <= ym)]\n",
    "    target_purchases = all_purchases[all_purchases.date.apply(lambda x: x[:7] <= ym)]\n",
    "    \n",
    "    val_te_session_ids = list(set(all_sessions[all_sessions.date.apply(lambda x: x[:7] == ym)].session_id.unique().tolist()))\n",
    "    print(\"before shuffle, first 3 session ids\", val_te_session_ids[:3])\n",
    "    random.shuffle(val_te_session_ids)\n",
    "    print(\"after shuffle, first 3 session ids\", val_te_session_ids[:3])\n",
    "\n",
    "    unique_items = set(target_sessions.item_id.tolist()) | set(target_purchases.item_id.tolist())\n",
    "    item_features = all_features[all_features.item_id.isin(unique_items)]\n",
    "    \n",
    "    div = (len(val_te_session_ids) // 2) - 1\n",
    "    val_session_ids = set(val_te_session_ids[:div])\n",
    "    te_session_ids = set(val_te_session_ids[div:])\n",
    "    val_te_session_ids = set(val_te_session_ids)\n",
    "    \n",
    "    tr_sessions = target_sessions[~target_sessions.session_id.isin(val_te_session_ids)].reset_index(drop=True)\n",
    "    val_sessions = target_sessions[target_sessions.session_id.isin(val_session_ids)].reset_index(drop=True)\n",
    "    te_sessions = target_sessions[target_sessions.session_id.isin(te_session_ids)].reset_index(drop=True)\n",
    "    \n",
    "    tr_purchases = target_purchases[~target_purchases.session_id.isin(val_te_session_ids)].reset_index(drop=True)\n",
    "    val_purchases = target_purchases[target_purchases.session_id.isin(val_session_ids)].reset_index(drop=True)\n",
    "    te_purchases = target_purchases[target_purchases.session_id.isin(te_session_ids)].reset_index(drop=True)\n",
    "    \n",
    "    candidate_items = set()\n",
    "    candidate_items |= set(te_purchases.item_id.tolist())\n",
    "    print('# cand items added', len(candidate_items))\n",
    "    candidate_items |= set(val_purchases.item_id.tolist())\n",
    "    print('# cand items added', len(candidate_items))\n",
    "    candidate_items |= set(val_sessions.item_id.tolist())\n",
    "    print('# cand items added', len(candidate_items))\n",
    "    candidate_items |= set(te_sessions.item_id.tolist())\n",
    "    print('# cand items added', len(candidate_items))\n",
    "    candidate_items = list(candidate_items)\n",
    "    \n",
    "    candidate_items = pd.DataFrame({\"item_id\": candidate_items})\n",
    "    candidate_items.head(3)\n",
    "    print(\n",
    "        \"# tr sessions\", len(tr_purchases),\n",
    "        \"# val sessions\", len(val_purchases),\n",
    "        \"# te sessions\", len(te_purchases),\n",
    "        )\n",
    "    return (tr_sessions, val_sessions, te_sessions, \n",
    "            tr_purchases, val_purchases, te_purchases, \n",
    "            candidate_items, item_features)"
   ]
  },
  {
   "cell_type": "code",
   "execution_count": 6,
   "id": "add4a079",
   "metadata": {},
   "outputs": [],
   "source": [
    "def save(dataset_xx, dir_name):\n",
    "    (tr_sessions, val_sessions, te_sessions, \n",
    "     tr_purchases, val_purchases, te_purchases, \n",
    "     candidate_items, item_features) = dataset_xx\n",
    "    \n",
    "    def tocsv(df, dir_name, fname):\n",
    "        df.to_csv(pjoin(dir_name, fname), index=False)\n",
    "    \n",
    "    tocsv(candidate_items, dir_name, 'candidate_items.csv')\n",
    "    tocsv(item_features, dir_name, 'item_features.csv')\n",
    "    tocsv(tr_sessions, dir_name, 'train_sessions.csv')\n",
    "    tocsv(tr_purchases, dir_name, 'train_purchases.csv')\n",
    "    tocsv(val_sessions, dir_name, 'val_sessions.csv')\n",
    "    tocsv(val_purchases, dir_name, 'val_purchases.csv')\n",
    "    tocsv(te_sessions, dir_name, 'te_sessions.csv')\n",
    "    tocsv(te_purchases, dir_name, 'te_purchases.csv')"
   ]
  },
  {
   "cell_type": "code",
   "execution_count": 7,
   "id": "8bf5d9a9",
   "metadata": {},
   "outputs": [
    {
     "name": "stdout",
     "output_type": "stream",
     "text": [
      "before shuffle, first 3 session ids ['1818893', '1831503', '2842564']\n",
      "after shuffle, first 3 session ids ['1570552', '192406', '2013356']\n",
      "# cand items added 4586\n",
      "# cand items added 5326\n",
      "# cand items added 6791\n",
      "# cand items added 7307\n",
      "# tr sessions 214401 # val sessions 30317 # te sessions 30319\n"
     ]
    }
   ],
   "source": [
    "dataset_2006 = get_filtered(all_sessions, all_purchases, all_features, ym='2020-06')"
   ]
  },
  {
   "cell_type": "code",
   "execution_count": 8,
   "id": "701e2e61",
   "metadata": {},
   "outputs": [
    {
     "name": "stdout",
     "output_type": "stream",
     "text": [
      "before shuffle, first 3 session ids ['1445558', '1256193', '3910290']\n",
      "after shuffle, first 3 session ids ['2566286', '2208744', '437024']\n",
      "# cand items added 4164\n",
      "# cand items added 4769\n",
      "# cand items added 5783\n",
      "# cand items added 5943\n",
      "# tr sessions 918382 # val sessions 40808 # te sessions 40810\n"
     ]
    }
   ],
   "source": [
    "dataset_2105 = get_filtered(all_sessions, all_purchases, all_features, ym='2021-05')"
   ]
  },
  {
   "cell_type": "code",
   "execution_count": 9,
   "id": "ce5b1487",
   "metadata": {},
   "outputs": [
    {
     "name": "stdout",
     "output_type": "stream",
     "text": [
      "before shuffle, first 3 session ids ['758213', '576063', '670917']\n",
      "after shuffle, first 3 session ids ['365857', '3671327', '142223']\n",
      "# cand items added 4187\n",
      "# cand items added 4858\n",
      "# cand items added 6297\n",
      "# cand items added 6735\n",
      "# tr sessions 848637 # val sessions 34871 # te sessions 34874\n"
     ]
    }
   ],
   "source": [
    "dataset_2104 = get_filtered(all_sessions, all_purchases, all_features, ym='2021-04')"
   ]
  },
  {
   "cell_type": "code",
   "execution_count": 10,
   "id": "7d198f99",
   "metadata": {},
   "outputs": [],
   "source": [
    "!rm -rf /data/project/rw/recsys2022/vali_2006\n",
    "!mkdir /data/project/rw/recsys2022/vali_2006\n",
    "\n",
    "!rm -rf /data/project/rw/recsys2022/vali_2105\n",
    "!mkdir /data/project/rw/recsys2022/vali_2105\n",
    "\n",
    "!rm -rf /data/project/rw/recsys2022/vali_2104\n",
    "!mkdir /data/project/rw/recsys2022/vali_2104"
   ]
  },
  {
   "cell_type": "code",
   "execution_count": 11,
   "id": "f785570a",
   "metadata": {},
   "outputs": [],
   "source": [
    "save(dataset_2006, \"/data/project/rw/recsys2022/vali_2006\")"
   ]
  },
  {
   "cell_type": "code",
   "execution_count": null,
   "id": "886888ae",
   "metadata": {},
   "outputs": [],
   "source": [
    "save(dataset_2105, \"/data/project/rw/recsys2022/vali_2105\")"
   ]
  },
  {
   "cell_type": "code",
   "execution_count": null,
   "id": "19fcedeb",
   "metadata": {},
   "outputs": [],
   "source": [
    "save(dataset_2104, \"/data/project/rw/recsys2022/vali_2104\")"
   ]
  }
 ],
 "metadata": {
  "kernelspec": {
   "display_name": "Python 3 (ipykernel)",
   "language": "python",
   "name": "python3"
  },
  "language_info": {
   "codemirror_mode": {
    "name": "ipython",
    "version": 3
   },
   "file_extension": ".py",
   "mimetype": "text/x-python",
   "name": "python",
   "nbconvert_exporter": "python",
   "pygments_lexer": "ipython3",
   "version": "3.7.10"
  }
 },
 "nbformat": 4,
 "nbformat_minor": 5
}

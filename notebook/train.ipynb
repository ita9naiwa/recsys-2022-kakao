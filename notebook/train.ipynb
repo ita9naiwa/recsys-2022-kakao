{
 "cells": [
  {
   "cell_type": "code",
   "execution_count": null,
   "id": "76591c38-fe2f-48b3-b912-13e117047f66",
   "metadata": {},
   "outputs": [],
   "source": [
    "!mkdir save"
   ]
  },
  {
   "cell_type": "code",
   "execution_count": null,
   "id": "83108753-f265-4569-9c2b-1867103e566a",
   "metadata": {},
   "outputs": [],
   "source": [
    "import joblib\n",
    "from glob import glob\n",
    "\n",
    "import sys\n",
    "sys.path.append('..')\n",
    "from module.utils import return_best_save_fnames, result_from_models"
   ]
  },
  {
   "cell_type": "markdown",
   "id": "f7d48fc5-4493-4a1f-a58a-c907ee9db952",
   "metadata": {},
   "source": [
    "## Train\n",
    "\n",
    "Train 20 times and select best 10 models, and then average the results."
   ]
  },
  {
   "cell_type": "markdown",
   "id": "2b7b6629-627e-44b4-a23f-128f73dbed85",
   "metadata": {},
   "source": [
    "```shell\n",
    "for i in {1..20}\n",
    "do\n",
    "    python ../module/models/gru.py --submit=True --num_workers=4 --save_fname=save/gru.pt --seed=$i\n",
    "    python ../module/models/gnn.py --submit=True --num_workers=4 --save_fname=save/gnn.pt --seed=$i\n",
    "    python ../module/models/grun.py --submit=True --num_workers=4 --save_fname=save/grun.pt --seed=$i\n",
    "    python ../module/models/grun.py --submit=True --num_workers=4 --all=True --save_fname=save/grun-all.pt --seed=$i\n",
    "    python ../module/models/mlp.py --submit=True --num_workers=4 --augmentation=True --save_fname=save/mlp-augmentation.pt --seed=$i\n",
    "done\n",
    "```"
   ]
  },
  {
   "cell_type": "code",
   "execution_count": null,
   "id": "a9006585-ad45-4b39-bdbd-0cdb4d8cdb76",
   "metadata": {},
   "outputs": [],
   "source": [
    "gru_save_fnames = glob('save/gru.pt*')\n",
    "gnn_save_fnames = glob('save/gnn.pt*')\n",
    "grun_save_fnames = glob('save/grun.pt*')\n",
    "grun_all_save_fnames = glob('save/grun-all.pt*')\n",
    "mlp_aug_save_fnames = glob('save/mlp-augmentation.pt*')"
   ]
  },
  {
   "cell_type": "code",
   "execution_count": null,
   "id": "20771d96-97d6-4828-b739-296f37d17200",
   "metadata": {},
   "outputs": [],
   "source": [
    "def return_logit(saves, **kwargs):\n",
    "    top_saves = return_best_save_fnames(saves, topn=10, submit=True, kind='val', **kwargs)\n",
    "    return result_from_models(top_saves, submit=True, kind='leader')"
   ]
  },
  {
   "cell_type": "code",
   "execution_count": null,
   "id": "e3b6e7ed-5b9a-4233-860f-613a046044aa",
   "metadata": {},
   "outputs": [],
   "source": [
    "gru_logit = return_logit(gru_save_fnames)\n",
    "gnn_logit = return_logit(gnn_save_fnames)\n",
    "grun_logit = return_logit(grun_save_fnames)\n",
    "grun_all_logit = return_logit(grun_all_save_fnames)\n",
    "mlp_aug_logit = return_logit(mlp_aug_save_fnames)"
   ]
  },
  {
   "cell_type": "code",
   "execution_count": null,
   "id": "6e14e756-1f4b-4cc5-9a34-559e22959f47",
   "metadata": {},
   "outputs": [],
   "source": [
    "!mkdir -p logits/leader"
   ]
  },
  {
   "cell_type": "code",
   "execution_count": null,
   "id": "641f780e-a076-4808-90c9-9bd2bfedcac4",
   "metadata": {},
   "outputs": [],
   "source": [
    "logits = [('gru', gru_logit), ('gnn', gnn_logit), ('grun', grun_logit), ('grun_all', grun_all_logit), ('mlp', mlp_aug_logit)]\n",
    "joblib.dump(logits, 'logits/leader/saved_logits')"
   ]
  }
 ],
 "metadata": {
  "kernelspec": {
   "display_name": "py39-aurochs",
   "language": "python",
   "name": "py39"
  },
  "language_info": {
   "codemirror_mode": {
    "name": "ipython",
    "version": 3
   },
   "file_extension": ".py",
   "mimetype": "text/x-python",
   "name": "python",
   "nbconvert_exporter": "python",
   "pygments_lexer": "ipython3",
   "version": "3.9.1"
  }
 },
 "nbformat": 4,
 "nbformat_minor": 5
}
